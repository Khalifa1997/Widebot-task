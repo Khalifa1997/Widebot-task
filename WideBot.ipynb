{
 "cells": [
  {
   "cell_type": "code",
   "execution_count": 23,
   "metadata": {
    "colab": {},
    "colab_type": "code",
    "id": "nZ07czaEH4wl"
   },
   "outputs": [],
   "source": [
    "import pandas as pd\n",
    "import numpy as np\n",
    "from sklearn import preprocessing\n",
    "from sklearn.metrics import balanced_accuracy_score,f1_score,auc,roc_auc_score,accuracy_score, precision_score,recall_score\n",
    "from sklearn.ensemble import RandomForestClassifier\n",
    "import warnings\n",
    "warnings.filterwarnings('ignore')"
   ]
  },
  {
   "cell_type": "markdown",
   "metadata": {
    "colab_type": "text",
    "id": "rFlwg3iokuVo"
   },
   "source": [
    "## Importing Data and Preprocessing"
   ]
  },
  {
   "cell_type": "code",
   "execution_count": 24,
   "metadata": {
    "colab": {},
    "colab_type": "code",
    "id": "tTD9qU3mIHLL"
   },
   "outputs": [],
   "source": [
    "train = pd.read_csv(\"training.csv\",sep=';', thousands=',')\n",
    "test = pd.read_csv(\"validation.csv\",sep=';', thousands=',')\n",
    "\n",
    "combined = train.append(test)\n",
    "numerical = [\"variable2\",\"variable3\",\"variable8\",\"variable11\",\"variable14\",\"variable15\",\"variable17\"]\n",
    "#Get the most frequent values for the numerical data to fill the NA values\n",
    "for col in numerical:\n",
    "    combined[col].fillna(combined[col].mean(), inplace=True)\n",
    "    combined[col].fillna(combined[col].mean(), inplace=True)\n",
    "\n",
    "categorical = ['variable1', 'variable4', 'variable5', 'variable6', 'variable7', 'variable9', 'variable10',\n",
    "      'variable12', 'variable13']\n",
    "\n",
    "#Get the most frequent values for the categorical data to fill the NA values\n",
    "for col in categorical:\n",
    "    combined[col].fillna(combined[col].mode()[0], inplace=True)\n",
    "    combined[col].fillna(combined[col].mode()[0], inplace=True)\n",
    "#Drop Variable 18 since most values are NA\n",
    "combined.drop(columns=[\"variable18\"],axis=1,inplace=True)\n"
   ]
  },
  {
   "cell_type": "code",
   "execution_count": 25,
   "metadata": {
    "colab": {},
    "colab_type": "code",
    "id": "k-_o8MvDIUAo"
   },
   "outputs": [],
   "source": [
    "#\n",
    "Y= (train[train.columns[-1]]==\"yes.\").astype(float)\n",
    "\n",
    "Y_test= (test[test.columns[-1]]==\"yes.\").astype(float)"
   ]
  },
  {
   "cell_type": "code",
   "execution_count": 26,
   "metadata": {
    "colab": {
     "base_uri": "https://localhost:8080/",
     "height": 51
    },
    "colab_type": "code",
    "id": "yfnbCKI8lV05",
    "outputId": "d51a7ca8-b767-436f-ebe1-444fe57caf60"
   },
   "outputs": [
    {
     "name": "stdout",
     "output_type": "stream",
     "text": [
      "% positive in train_set:92.54054054054055\n",
      "% positive in test_set:46.5\n"
     ]
    }
   ],
   "source": [
    "print(\"% positive in train_set:\" +str( 100*np.sum(Y==1)/len(Y)))\n",
    "print(\"% positive in test_set:\" +str(100*np.sum(Y_test==1)/len(Y_test)))"
   ]
  },
  {
   "cell_type": "code",
   "execution_count": 27,
   "metadata": {
    "colab": {},
    "colab_type": "code",
    "id": "5gc3GOAyOwZ0"
   },
   "outputs": [],
   "source": [
    "#combined =combined.fillna(combined.mode().iloc[0])\n",
    "for i,j in zip(combined.columns,combined.dtypes):\n",
    "  if (combined[i].isnull().values.any() == True):\n",
    "    print(i)\n",
    "    print(combined[i].value_counts(dropna=False))\n",
    "    print(\"Count of NaN: \"+ str(combined[i].isna().sum()))\n",
    "    print(str(combined[i].isna().sum()/combined.shape[0]))\n",
    "    print(\"----------------------------\")"
   ]
  },
  {
   "cell_type": "code",
   "execution_count": 28,
   "metadata": {
    "colab": {
     "base_uri": "https://localhost:8080/",
     "height": 374
    },
    "colab_type": "code",
    "id": "-cyb_1CfNnWt",
    "outputId": "5316b439-bdc6-42b9-88a6-99029ae86b10"
   },
   "outputs": [
    {
     "name": "stdout",
     "output_type": "stream",
     "text": [
      "variable1 object\n",
      "variable4 object\n",
      "variable5 object\n",
      "variable6 object\n",
      "variable7 object\n",
      "variable9 object\n",
      "variable10 object\n",
      "variable12 object\n",
      "variable13 object\n"
     ]
    }
   ],
   "source": [
    "X=combined[combined.columns[:-1]]\n",
    "for i,j in zip(X.columns,X.dtypes):\n",
    "  if (\"64\" not in str(j)):\n",
    "    print(i,j)\n",
    "\n",
    "    X[i]=X[i].astype(str)\n",
    "    le = preprocessing.LabelEncoder()\n",
    "    temp = le.fit_transform(X[i])\n",
    "    X[i]=temp\n",
    "X_train =X.to_numpy()[:train.shape[0]]\n",
    "X_test =X.to_numpy()[train.shape[0]:]"
   ]
  },
  {
   "cell_type": "code",
   "execution_count": 29,
   "metadata": {
    "colab": {},
    "colab_type": "code",
    "id": "RfOFv03cO7_r"
   },
   "outputs": [],
   "source": [
    "from sklearn.preprocessing import MinMaxScaler\n",
    "scaler = MinMaxScaler()\n",
    "scaler.fit(X_train)\n",
    "X_train = scaler.transform(X_train)\n",
    "X_test = scaler.transform(X_test)"
   ]
  },
  {
   "cell_type": "code",
   "execution_count": 30,
   "metadata": {
    "colab": {
     "base_uri": "https://localhost:8080/",
     "height": 170
    },
    "colab_type": "code",
    "id": "vWSdMti6mENR",
    "outputId": "d52f57e9-4964-40a1-95c9-026d68ae89bb"
   },
   "outputs": [
    {
     "name": "stdout",
     "output_type": "stream",
     "text": [
      "Test ROC_AUC: 0.8634271099744245\n",
      "Test Accuracy: 0.85\n",
      "Test Precision: 0.956989247311828\n",
      "Test Recall: 0.7739130434782608\n",
      "Test F1-score: 0.8557692307692307\n",
      "-------------------------------------\n",
      "Training Precision: 0.9205607476635514\n",
      "Training Recall: 0.9840774274118015\n",
      "Training F1-score: 0.9512599969820432\n"
     ]
    }
   ],
   "source": [
    "from sklearn.discriminant_analysis import LinearDiscriminantAnalysis\n",
    "clf = LinearDiscriminantAnalysis()\n",
    "clf.fit(X_train, Y)\n",
    "pred= clf.predict(X_test)\n",
    "pred_train= clf.predict(X_train)\n",
    "\n",
    "\n",
    "print(\"Test ROC_AUC: \"+str(roc_auc_score(pred,Y_test)))\n",
    "print(\"Test Accuracy: \"+str(accuracy_score(pred,Y_test)))\n",
    "print(\"Test Precision: \"+str(precision_score(pred,Y_test)))\n",
    "print(\"Test Recall: \"+str(recall_score(pred,Y_test)))\n",
    "print(\"Test F1-score: \"+str(f1_score(pred,Y_test)))\n",
    "print(\"-------------------------------------\")\n",
    "\n",
    "print(\"Training Precision: \"+str(precision_score(pred_train,Y)))\n",
    "print(\"Training Recall: \"+str(recall_score(pred_train,Y)))\n",
    "print(\"Training F1-score: \"+str(f1_score(pred_train,Y)))"
   ]
  },
  {
   "cell_type": "code",
   "execution_count": 31,
   "metadata": {
    "colab": {
     "base_uri": "https://localhost:8080/",
     "height": 350
    },
    "colab_type": "code",
    "id": "AU3RVvTTojrp",
    "outputId": "8fa87e19-03a4-4aa6-8027-b15ad0052a5b"
   },
   "outputs": [
    {
     "data": {
      "image/png": "[encoded data removed]",
      "text/plain": [
       "<Figure size 360x360 with 1 Axes>"
      ]
     },
     "metadata": {},
     "output_type": "display_data"
    }
   ],
   "source": [
    "#!pip install plot_metric\n",
    "import matplotlib.pyplot as plt\n",
    "from plot_metric.functions import BinaryClassification\n",
    "bc = BinaryClassification(Y_test, pred, labels=[\"Class 1\", \"Class 2\"])\n",
    "\n",
    "# Figures\n",
    "plt.figure(figsize=(5,5))\n",
    "bc.plot_roc_curve()\n",
    "plt.show()"
   ]
  },
  {
   "cell_type": "markdown",
   "metadata": {
    "colab_type": "text",
    "id": "snmv5bLMpS9p"
   },
   "source": [
    "Since we are working with a very imbalanced dataset towards the yes label, our main metrics to consider, is Precision and recall, since those are the ones that focus on the positive label -in our case the yes label- and we managed to achieve a very good Precision of 92% and Recall of 98% on our trainset"
   ]
  },
  {
   "cell_type": "markdown",
   "metadata": {
    "colab_type": "text",
    "id": "Y1yOG2wnp1sf"
   },
   "source": [
    "Now with our test set, its already balanaced so having metrics such as Accuracy and ROC should work just fine as we would only use F1-score, Recall and Precision mostly when we deal with unbalanced data. As seen above, from the plot we have an ROC of 0.86 on our Trainset and an Accuracy of 0.85"
   ]
  },
  {
   "cell_type": "markdown",
   "metadata": {
    "colab_type": "text",
    "id": "JmnTNdL5q3Gg"
   },
   "source": [
    "We chose the LDA classifier cause it provides the highest accuracies out of all ensemble and Linear Classifiers, so it suggests that PCA would be a good way for dimensionality reduction."
   ]
  }
 ],
 "metadata": {
  "colab": {
   "name": "WideBot.ipynb",
   "provenance": []
  },
  "kernelspec": {
   "display_name": "Python 3",
   "language": "python",
   "name": "python3"
  },
  "language_info": {
   "codemirror_mode": {
    "name": "ipython",
    "version": 3
   },
   "file_extension": ".py",
   "mimetype": "text/x-python",
   "name": "python",
   "nbconvert_exporter": "python",
   "pygments_lexer": "ipython3",
   "version": "3.7.7"
  }
 },
 "nbformat": 4,
 "nbformat_minor": 1
}
